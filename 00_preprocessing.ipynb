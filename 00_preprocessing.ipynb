{
 "cells": [
  {
   "cell_type": "markdown",
   "metadata": {},
   "source": [
    "This is a placeholder file aiming to remind us that:\n",
    "\n",
    "Althought there seems to be no big issue in the csv file,\n",
    "it is important to preprocess the images even before the feature extraction!\n",
    "\n",
    "I've found an interesting article:\n",
    "https://medium.com/towards-data-science/medical-image-pre-processing-with-python-d07694852606\n",
    "\n",
    " - 2023/11/29 I haven't found time to read it yet."
   ]
  }
 ],
 "metadata": {
  "language_info": {
   "name": "python"
  }
 },
 "nbformat": 4,
 "nbformat_minor": 2
}
