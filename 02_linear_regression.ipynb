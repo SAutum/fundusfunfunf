{
 "cells": [
  {
   "cell_type": "markdown",
   "metadata": {},
   "source": [
    "The project related to image cropping is not yet included in this file.\n",
    "\n",
    "https://github.com/spumonie/eyeballgang\n",
    "\n",
    "This file utilizes the thumbnail of the original images without any \n",
    "preprocessing."
   ]
  },
  {
   "cell_type": "code",
   "execution_count": 28,
   "metadata": {},
   "outputs": [
    {
     "data": {
      "text/html": [
       "<div>\n",
       "<style scoped>\n",
       "    .dataframe tbody tr th:only-of-type {\n",
       "        vertical-align: middle;\n",
       "    }\n",
       "\n",
       "    .dataframe tbody tr th {\n",
       "        vertical-align: top;\n",
       "    }\n",
       "\n",
       "    .dataframe thead th {\n",
       "        text-align: right;\n",
       "    }\n",
       "</style>\n",
       "<table border=\"1\" class=\"dataframe\">\n",
       "  <thead>\n",
       "    <tr style=\"text-align: right;\">\n",
       "      <th></th>\n",
       "      <th>Age</th>\n",
       "      <th>Sex</th>\n",
       "      <th>Left_Fundus</th>\n",
       "      <th>Right_Fundus</th>\n",
       "      <th>N</th>\n",
       "      <th>D</th>\n",
       "      <th>G</th>\n",
       "      <th>C</th>\n",
       "      <th>A</th>\n",
       "      <th>H</th>\n",
       "      <th>M</th>\n",
       "      <th>O</th>\n",
       "      <th>Left_Diagnosis</th>\n",
       "      <th>Right_Diagnosis</th>\n",
       "    </tr>\n",
       "    <tr>\n",
       "      <th>ID</th>\n",
       "      <th></th>\n",
       "      <th></th>\n",
       "      <th></th>\n",
       "      <th></th>\n",
       "      <th></th>\n",
       "      <th></th>\n",
       "      <th></th>\n",
       "      <th></th>\n",
       "      <th></th>\n",
       "      <th></th>\n",
       "      <th></th>\n",
       "      <th></th>\n",
       "      <th></th>\n",
       "      <th></th>\n",
       "    </tr>\n",
       "  </thead>\n",
       "  <tbody>\n",
       "    <tr>\n",
       "      <th>1</th>\n",
       "      <td>57</td>\n",
       "      <td>Male</td>\n",
       "      <td>1_left.jpg</td>\n",
       "      <td>1_right.jpg</td>\n",
       "      <td>1</td>\n",
       "      <td>0</td>\n",
       "      <td>0</td>\n",
       "      <td>0</td>\n",
       "      <td>0</td>\n",
       "      <td>0</td>\n",
       "      <td>0</td>\n",
       "      <td>0</td>\n",
       "      <td>normal fundus</td>\n",
       "      <td>normal fundus</td>\n",
       "    </tr>\n",
       "    <tr>\n",
       "      <th>8</th>\n",
       "      <td>59</td>\n",
       "      <td>Male</td>\n",
       "      <td>8_left.jpg</td>\n",
       "      <td>8_right.jpg</td>\n",
       "      <td>1</td>\n",
       "      <td>0</td>\n",
       "      <td>0</td>\n",
       "      <td>0</td>\n",
       "      <td>0</td>\n",
       "      <td>0</td>\n",
       "      <td>0</td>\n",
       "      <td>0</td>\n",
       "      <td>normal fundus</td>\n",
       "      <td>normal fundus</td>\n",
       "    </tr>\n",
       "    <tr>\n",
       "      <th>84</th>\n",
       "      <td>51</td>\n",
       "      <td>Female</td>\n",
       "      <td>84_left.jpg</td>\n",
       "      <td>84_right.jpg</td>\n",
       "      <td>1</td>\n",
       "      <td>0</td>\n",
       "      <td>0</td>\n",
       "      <td>0</td>\n",
       "      <td>0</td>\n",
       "      <td>0</td>\n",
       "      <td>0</td>\n",
       "      <td>0</td>\n",
       "      <td>normal fundus</td>\n",
       "      <td>normal fundus</td>\n",
       "    </tr>\n",
       "    <tr>\n",
       "      <th>191</th>\n",
       "      <td>51</td>\n",
       "      <td>Female</td>\n",
       "      <td>191_left.jpg</td>\n",
       "      <td>191_right.jpg</td>\n",
       "      <td>1</td>\n",
       "      <td>0</td>\n",
       "      <td>0</td>\n",
       "      <td>0</td>\n",
       "      <td>0</td>\n",
       "      <td>0</td>\n",
       "      <td>0</td>\n",
       "      <td>0</td>\n",
       "      <td>normal fundus</td>\n",
       "      <td>normal fundus</td>\n",
       "    </tr>\n",
       "    <tr>\n",
       "      <th>394</th>\n",
       "      <td>63</td>\n",
       "      <td>Male</td>\n",
       "      <td>394_left.jpg</td>\n",
       "      <td>394_right.jpg</td>\n",
       "      <td>1</td>\n",
       "      <td>0</td>\n",
       "      <td>0</td>\n",
       "      <td>0</td>\n",
       "      <td>0</td>\n",
       "      <td>0</td>\n",
       "      <td>0</td>\n",
       "      <td>0</td>\n",
       "      <td>normal fundus</td>\n",
       "      <td>normal fundus</td>\n",
       "    </tr>\n",
       "  </tbody>\n",
       "</table>\n",
       "</div>"
      ],
      "text/plain": [
       "     Age     Sex   Left_Fundus   Right_Fundus  N  D  G  C  A  H  M  O  \\\n",
       "ID                                                                      \n",
       "1     57    Male    1_left.jpg    1_right.jpg  1  0  0  0  0  0  0  0   \n",
       "8     59    Male    8_left.jpg    8_right.jpg  1  0  0  0  0  0  0  0   \n",
       "84    51  Female   84_left.jpg   84_right.jpg  1  0  0  0  0  0  0  0   \n",
       "191   51  Female  191_left.jpg  191_right.jpg  1  0  0  0  0  0  0  0   \n",
       "394   63    Male  394_left.jpg  394_right.jpg  1  0  0  0  0  0  0  0   \n",
       "\n",
       "    Left_Diagnosis Right_Diagnosis  \n",
       "ID                                  \n",
       "1    normal fundus   normal fundus  \n",
       "8    normal fundus   normal fundus  \n",
       "84   normal fundus   normal fundus  \n",
       "191  normal fundus   normal fundus  \n",
       "394  normal fundus   normal fundus  "
      ]
     },
     "execution_count": 28,
     "metadata": {},
     "output_type": "execute_result"
    }
   ],
   "source": [
    "import packages.small_batch_images as sbim\n",
    "import pandas as pd\n",
    "import numpy as np\n",
    "\n",
    "df = sbim.load_annotation()\n",
    "# Currently we consider only the healthy people\n",
    "df_healthy = df[df['N']==1]\n",
    "df_healthy.head()"
   ]
  },
  {
   "cell_type": "code",
   "execution_count": 29,
   "metadata": {},
   "outputs": [
    {
     "data": {
      "text/plain": [
       "(1040, 14)"
      ]
     },
     "execution_count": 29,
     "metadata": {},
     "output_type": "execute_result"
    }
   ],
   "source": [
    "df_healthy.shape"
   ]
  },
  {
   "cell_type": "code",
   "execution_count": 50,
   "metadata": {},
   "outputs": [
    {
     "data": {
      "text/html": [
       "<div>\n",
       "<style scoped>\n",
       "    .dataframe tbody tr th:only-of-type {\n",
       "        vertical-align: middle;\n",
       "    }\n",
       "\n",
       "    .dataframe tbody tr th {\n",
       "        vertical-align: top;\n",
       "    }\n",
       "\n",
       "    .dataframe thead th {\n",
       "        text-align: right;\n",
       "    }\n",
       "</style>\n",
       "<table border=\"1\" class=\"dataframe\">\n",
       "  <thead>\n",
       "    <tr style=\"text-align: right;\">\n",
       "      <th></th>\n",
       "      <th>Age</th>\n",
       "      <th>LR</th>\n",
       "      <th>LG</th>\n",
       "      <th>LB</th>\n",
       "      <th>RR</th>\n",
       "      <th>RG</th>\n",
       "      <th>RB</th>\n",
       "    </tr>\n",
       "  </thead>\n",
       "  <tbody>\n",
       "    <tr>\n",
       "      <th>0</th>\n",
       "      <td>57</td>\n",
       "      <td>71.801359</td>\n",
       "      <td>50.820318</td>\n",
       "      <td>34.355798</td>\n",
       "      <td>70.800345</td>\n",
       "      <td>49.648224</td>\n",
       "      <td>30.825615</td>\n",
       "    </tr>\n",
       "    <tr>\n",
       "      <th>1</th>\n",
       "      <td>59</td>\n",
       "      <td>115.076816</td>\n",
       "      <td>50.479862</td>\n",
       "      <td>29.224383</td>\n",
       "      <td>124.850529</td>\n",
       "      <td>54.599871</td>\n",
       "      <td>31.795094</td>\n",
       "    </tr>\n",
       "    <tr>\n",
       "      <th>2</th>\n",
       "      <td>51</td>\n",
       "      <td>123.61011</td>\n",
       "      <td>72.155129</td>\n",
       "      <td>49.583021</td>\n",
       "      <td>117.693821</td>\n",
       "      <td>68.319058</td>\n",
       "      <td>48.042853</td>\n",
       "    </tr>\n",
       "    <tr>\n",
       "      <th>3</th>\n",
       "      <td>51</td>\n",
       "      <td>53.220355</td>\n",
       "      <td>36.534905</td>\n",
       "      <td>21.677891</td>\n",
       "      <td>62.979265</td>\n",
       "      <td>41.060657</td>\n",
       "      <td>20.295689</td>\n",
       "    </tr>\n",
       "    <tr>\n",
       "      <th>4</th>\n",
       "      <td>63</td>\n",
       "      <td>75.193325</td>\n",
       "      <td>54.748073</td>\n",
       "      <td>32.905087</td>\n",
       "      <td>66.127949</td>\n",
       "      <td>45.4379</td>\n",
       "      <td>26.157673</td>\n",
       "    </tr>\n",
       "  </tbody>\n",
       "</table>\n",
       "</div>"
      ],
      "text/plain": [
       "  Age          LR         LG         LB          RR         RG         RB\n",
       "0  57   71.801359  50.820318  34.355798   70.800345  49.648224  30.825615\n",
       "1  59  115.076816  50.479862  29.224383  124.850529  54.599871  31.795094\n",
       "2  51   123.61011  72.155129  49.583021  117.693821  68.319058  48.042853\n",
       "3  51   53.220355  36.534905  21.677891   62.979265  41.060657  20.295689\n",
       "4  63   75.193325  54.748073  32.905087   66.127949    45.4379  26.157673"
      ]
     },
     "execution_count": 50,
     "metadata": {},
     "output_type": "execute_result"
    }
   ],
   "source": [
    "dataset = pd.DataFrame(columns=['Age', 'LR', 'LG', 'LB', 'RR', 'RG', 'RB'])\n",
    "for i in range(len(df_healthy)):\n",
    "    sample = df_healthy.iloc[i]\n",
    "    sample = sample[:1] # pick ID and age only\n",
    "\n",
    "    # store the info of the left eye\n",
    "    img = sbim.load_left_eye_image(class_='N', df = df_healthy, i=i)\n",
    "    img = np.array(img)\n",
    "    # store the averaged number for each color channel\n",
    "    colors =  ['R', 'G', 'B']\n",
    "    for j in range(len(colors)):\n",
    "        sample['L'+ colors[j]] = img[:, :, j].mean()\n",
    "\n",
    "    # same for the right eye\n",
    "    img = sbim.load_right_eye_image(class_='N', df = df_healthy, i=i)\n",
    "    img = np.array(img)\n",
    "    colors =  ['R', 'G', 'B']\n",
    "    for j in range(len(colors)):\n",
    "        sample['R'+ colors[j]] = img[:, :, j].mean()\n",
    "\n",
    "    # add the current sample to the dataset\n",
    "    dataset.loc[len(dataset)] = sample\n",
    "\n",
    "dataset.head()"
   ]
  },
  {
   "cell_type": "code",
   "execution_count": 52,
   "metadata": {},
   "outputs": [],
   "source": [
    "# save the dataset for further tuning\n",
    "dataset.to_csv('outputs/RGB_mean_healthy.csv')"
   ]
  },
  {
   "cell_type": "code",
   "execution_count": 56,
   "metadata": {},
   "outputs": [],
   "source": [
    "dataset = dataset.to_numpy()\n",
    "\n",
    "# easiest train and test split\n",
    "from sklearn.model_selection import train_test_split\n",
    "train, test = train_test_split(dataset)\n",
    "\n",
    "# linear regression model\n",
    "from sklearn.linear_model import LinearRegression\n",
    "lr_model = LinearRegression()\n"
   ]
  },
  {
   "cell_type": "code",
   "execution_count": 61,
   "metadata": {},
   "outputs": [
    {
     "data": {
      "text/plain": [
       "0.006597684645467838"
      ]
     },
     "execution_count": 61,
     "metadata": {},
     "output_type": "execute_result"
    }
   ],
   "source": [
    "lr_model.fit(train[:, 1:], train[:, 0])\n",
    "# R2 score\n",
    "lr_model.score(train[:, 1:], train[:, 0])"
   ]
  },
  {
   "cell_type": "code",
   "execution_count": 73,
   "metadata": {},
   "outputs": [
    {
     "data": {
      "text/plain": [
       "-0.011525631334656117"
      ]
     },
     "execution_count": 73,
     "metadata": {},
     "output_type": "execute_result"
    }
   ],
   "source": [
    "# R2 score\n",
    "lr_model.score(test[:, 1:], test[:, 0])"
   ]
  },
  {
   "cell_type": "code",
   "execution_count": 75,
   "metadata": {},
   "outputs": [
    {
     "name": "stdout",
     "output_type": "stream",
     "text": [
      "2.307692307692308\n"
     ]
    }
   ],
   "source": [
    "# print the test dataset accuracy\n",
    "test_y_pred = np.round(lr_model.predict(test[:, 1:]))\n",
    "print((np.sum(test_y_pred == test[:, 0])/len(test[:, 0]))*100)"
   ]
  },
  {
   "cell_type": "markdown",
   "metadata": {},
   "source": [
    "2% of the test data are correctly labeled"
   ]
  },
  {
   "cell_type": "code",
   "execution_count": 77,
   "metadata": {},
   "outputs": [
    {
     "name": "stdout",
     "output_type": "stream",
     "text": [
      "[61 36 24 59 87 64 36 37 93 91 75 58 72 86 90 93 62 15 69 69 27  1 88 91\n",
      " 42 74  9 55 66 50 69 94 55 29 99 42 79 63 25 61 80  2 64 60 96 70 73  0\n",
      "  7  6 74 61 91 62 55 35 77 60 19 67 22 67  5  4 26 24 44 84 35 94 17 59\n",
      " 72 75 15 18 73 57 45 19 93  5 50 20 33 63 77 79 37 96 42 91 57 36 94 23\n",
      " 38  9 81 35]\n"
     ]
    }
   ],
   "source": [
    "from numpy.random import randint\n",
    "print(randint(0, 100, size=100))"
   ]
  },
  {
   "cell_type": "code",
   "execution_count": 94,
   "metadata": {},
   "outputs": [
    {
     "name": "stdout",
     "output_type": "stream",
     "text": [
      "1.9230769230769231\n"
     ]
    }
   ],
   "source": [
    "random_guess_model = randint(1, 89, size=len(test))\n",
    "print(np.sum(random_guess_model == test[:, 0])/len(test[:, 0])*100)"
   ]
  },
  {
   "cell_type": "markdown",
   "metadata": {},
   "source": [
    "A random guess model also are not that promissing."
   ]
  }
 ],
 "metadata": {
  "kernelspec": {
   "display_name": "APAlg",
   "language": "python",
   "name": "python3"
  },
  "language_info": {
   "codemirror_mode": {
    "name": "ipython",
    "version": 3
   },
   "file_extension": ".py",
   "mimetype": "text/x-python",
   "name": "python",
   "nbconvert_exporter": "python",
   "pygments_lexer": "ipython3",
   "version": "3.9.18"
  }
 },
 "nbformat": 4,
 "nbformat_minor": 2
}
