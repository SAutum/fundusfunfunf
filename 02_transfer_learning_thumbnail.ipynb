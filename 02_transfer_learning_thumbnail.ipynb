{
 "cells": [
  {
   "cell_type": "markdown",
   "metadata": {},
   "source": [
    "Create thumbnail images for testing"
   ]
  },
  {
   "cell_type": "code",
   "execution_count": 8,
   "metadata": {},
   "outputs": [],
   "source": [
    "import pandas as pd\n",
    "from packages.small_batch_images import *\n",
    "import os\n",
    "\n",
    "df = load_annotation()\n",
    "for i in range(len(df)):\n",
    "    img = load_left_eye_image(df, i)\n",
    "    img.thumbnail((300, 300))\n",
    "    # script_dir is in the samll_batch_images scirpt\n",
    "    img.save(os.path.join(script_dir, \"../images_thumbnail/{}\").format(df.Left_Fundus.values[i]))\n",
    "    img = load_right_eye_image(df, i)\n",
    "    img.thumbnail((300, 300))\n",
    "    img.save(os.path.join(script_dir, \"../images_thumbnail/{}\").format(df.Right_Fundus.values[i]))"
   ]
  },
  {
   "cell_type": "code",
   "execution_count": 11,
   "metadata": {},
   "outputs": [
    {
     "data": {
      "text/plain": [
       "tensor([1., 2., 3.], device='cuda:0')"
      ]
     },
     "execution_count": 11,
     "metadata": {},
     "output_type": "execute_result"
    }
   ],
   "source": [
    "import torch\n",
    "torch.Tensor([1 ,2, 3 ]).to(\"cuda\")"
   ]
  }
 ],
 "metadata": {
  "kernelspec": {
   "display_name": "base",
   "language": "python",
   "name": "python3"
  },
  "language_info": {
   "codemirror_mode": {
    "name": "ipython",
    "version": 3
   },
   "file_extension": ".py",
   "mimetype": "text/x-python",
   "name": "python",
   "nbconvert_exporter": "python",
   "pygments_lexer": "ipython3",
   "version": "3.11.5"
  }
 },
 "nbformat": 4,
 "nbformat_minor": 2
}
